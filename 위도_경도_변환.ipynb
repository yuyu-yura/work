{
  "nbformat": 4,
  "nbformat_minor": 0,
  "metadata": {
    "colab": {
      "name": "위도 경도 변환.ipynb",
      "provenance": [],
      "collapsed_sections": []
    },
    "kernelspec": {
      "name": "python3",
      "display_name": "Python 3"
    },
    "language_info": {
      "name": "python"
    }
  },
  "cells": [
    {
      "cell_type": "code",
      "source": [
        "import pandas as pd\n",
        "import geopy"
      ],
      "metadata": {
        "id": "emA8d-a0p2DZ"
      },
      "execution_count": null,
      "outputs": []
    },
    {
      "cell_type": "code",
      "execution_count": null,
      "metadata": {
        "colab": {
          "base_uri": "https://localhost:8080/"
        },
        "id": "ZdgWPpjiofMD",
        "outputId": "26a1aca1-057a-4fd7-a3af-012a2b4adef0"
      },
      "outputs": [
        {
          "output_type": "stream",
          "name": "stdout",
          "text": [
            "   연번  공동주택명              소재지지번주소                   소재지도로명주소  세대수  층수  동수\n",
            "0   1  시민아파트   광주광역시 서구 광천동 650-7    광주광역시 서구 죽봉대로119번길 22-9  184   3   3\n",
            "1   2  우진아파트          광주광역시 서구 양동           광주광역시 서구 독립로 195  280   5   4\n",
            "2   3   삼익맨션          광주광역시 서구 양동          광주광역시 서구 천변좌로 282  216  12   3\n",
            "3   4  남화아파트   광주광역시 서구 화정동 747-1  광주광역시 서구 월드컵4강로152번길 13-8   30   5   1\n",
            "4   5  서석아파트  광주광역시 서구 화정동 747-22  광주광역시 서구 월드컵4강로152번길 13-6   30   5   1\n"
          ]
        }
      ],
      "source": [
        "# csv파일 불러오기\n",
        "csv = pd.read_csv('1.csv',encoding = 'euc-kr')\n",
        "print(csv.head())"
      ]
    },
    {
      "cell_type": "code",
      "source": [
        "# 데이터프레임 주소값 추출\n",
        "address= csv['소재지도로명주소']\n",
        "print(address.head())"
      ],
      "metadata": {
        "colab": {
          "base_uri": "https://localhost:8080/"
        },
        "id": "guUU8yF2qVq0",
        "outputId": "6f7c3c67-e101-4449-e30a-1bd43bd113b9"
      },
      "execution_count": null,
      "outputs": [
        {
          "output_type": "stream",
          "name": "stdout",
          "text": [
            "0      광주광역시 서구 죽봉대로119번길 22-9\n",
            "1             광주광역시 서구 독립로 195\n",
            "2            광주광역시 서구 천변좌로 282\n",
            "3    광주광역시 서구 월드컵4강로152번길 13-8\n",
            "4    광주광역시 서구 월드컵4강로152번길 13-6\n",
            "Name: 소재지도로명주소, dtype: object\n"
          ]
        }
      ]
    },
    {
      "cell_type": "code",
      "source": [
        "# 주소 데이터 깔끔하게 다듬기\n",
        "for i in range(len(address)):\n",
        "    a = address[i].split(' ')\n",
        "    address[i] = \" \".join(a[0:4])\n",
        "print(address)"
      ],
      "metadata": {
        "colab": {
          "base_uri": "https://localhost:8080/"
        },
        "id": "Mq-IznguqXtf",
        "outputId": "b69888c7-f04d-4d94-b212-2e0955a93513"
      },
      "execution_count": null,
      "outputs": [
        {
          "output_type": "stream",
          "name": "stdout",
          "text": [
            "0       광주광역시 서구 죽봉대로119번길 22-9\n",
            "1              광주광역시 서구 독립로 195\n",
            "2             광주광역시 서구 천변좌로 282\n",
            "3     광주광역시 서구 월드컵4강로152번길 13-8\n",
            "4     광주광역시 서구 월드컵4강로152번길 13-6\n",
            "5           광주광역시 서구 경열로75번길 11\n",
            "6          광주광역시 서구 죽봉대로102번길 3\n",
            "7             광주광역시 서구 상무대로 997\n",
            "8          광주광역시 서구 월산로255번길 24\n",
            "9           광주광역시 서구 상무민주로5번길 6\n",
            "10             광주광역시 서구 죽봉대로 31\n",
            "11     광주광역시 서구 월드컵4강로181번길 6-7\n",
            "12          광주광역시 서구 상무민주로6번길 9\n",
            "13      광주광역시 서구 월드컵4강로197번길 13\n",
            "14      광주광역시 서구 월드컵4강로112번길 10\n",
            "15          광주광역시 서구 화정로179번길 8\n",
            "16         광주광역시 서구 상무민주로6번길 18\n",
            "17          광주광역시 서구 내방로404번길 7\n",
            "18        광주광역시 서구 죽봉대로111번길 19\n",
            "19          광주광역시 서구 상무민주로5번길 5\n",
            "20             광주광역시 서구 내방로 310\n",
            "21         광주광역시 서구 화운로333번길 19\n",
            "22    광주광역시 서구 월드컵4강로112번길 23-1\n",
            "23          광주광역시 서구 독립로185번길 2\n",
            "24          광주광역시 서구 화정로179번길 4\n",
            "25             광주광역시 서구 내방로 430\n",
            "26             광주광역시 서구 화운로 203\n",
            "27              광주광역시 서구 연화길 19\n",
            "28             광주광역시 서구 염화로 152\n",
            "29           광주광역시 서구 칠성로 131-1\n",
            "30          광주광역시 서구 화운로199번길 9\n",
            "31        광주광역시 서구 죽봉대로111번길 25\n",
            "32            광주광역시 서구 광천효광길 25\n",
            "33         광주광역시 서구 칠성로153번길 10\n",
            "34    광주광역시 서구 천변좌하로548번길 15-19\n",
            "35             광주광역시 서구 내방로 304\n",
            "36          광주광역시 서구 월드컵4강로 220\n",
            "37           광주광역시 서구 천변좌하로 546\n",
            "38             광주광역시 서구 군분2로 45\n",
            "39            광주광역시 서구 월드컵4강로 9\n",
            "40          광주광역시 서구 염화로40번길 20\n",
            "41            광주광역시 서구 천변좌로 264\n",
            "42          광주광역시 서구 상무대로 899-1\n",
            "43         광주광역시 서구 화운로175번길 15\n",
            "44           광주광역시 서구 염화로40번길 6\n",
            "45           광주광역시 서구 월드컵4강로 22\n",
            "46     광주광역시 서구 상무대로1099번길 15-1\n",
            "47        광주광역시 서구 상무대로935번길 15\n",
            "48         광주광역시 서구 경열로65번길 7-1\n",
            "Name: 소재지도로명주소, dtype: object\n"
          ]
        },
        {
          "output_type": "stream",
          "name": "stderr",
          "text": [
            "/usr/local/lib/python3.7/dist-packages/ipykernel_launcher.py:4: SettingWithCopyWarning: \n",
            "A value is trying to be set on a copy of a slice from a DataFrame\n",
            "\n",
            "See the caveats in the documentation: https://pandas.pydata.org/pandas-docs/stable/user_guide/indexing.html#returning-a-view-versus-a-copy\n",
            "  after removing the cwd from sys.path.\n"
          ]
        }
      ]
    },
    {
      "cell_type": "code",
      "source": [
        "####### 도로명주소 위도 경도 값으로 바꿔주기 ########\n",
        "from geopy.geocoders import Nominatim\n",
        "geo_local = Nominatim(user_agent='South Korea')\n",
        "# 위도, 경도 반환하는 함수\n",
        "def geocoding(address):\n",
        "    geo = geo_local.geocode(address)\n",
        "    x_y = [geo.latitude, geo.longitude]\n",
        "    return x_y"
      ],
      "metadata": {
        "id": "7rT4cu-VqZud"
      },
      "execution_count": null,
      "outputs": []
    },
    {
      "cell_type": "code",
      "source": [
        "#####주소를 위,경도 값으로 변환하기 #####\n",
        "latitude = []\n",
        "longitude =[]\n",
        "\n",
        "for i in address:\n",
        "    latitude.append(geocoding(i)[0])\n",
        "    longitude.append(geocoding(i)[1])"
      ],
      "metadata": {
        "id": "SR75jX-Aqb66"
      },
      "execution_count": null,
      "outputs": []
    },
    {
      "cell_type": "code",
      "source": [
        "#####Dataframe만들기######\n",
        "address_df = pd.DataFrame({'이름': csv['공동주택명'],'상세주소':csv['소재지도로명주소'],'주소':address,'위도':latitude,'경도':longitude})\n",
        "\n",
        "#df저장\n",
        "address_df.to_csv('jungu_incheon_coffeeshop.csv')"
      ],
      "metadata": {
        "id": "KlaUZ0lOuXaH"
      },
      "execution_count": null,
      "outputs": []
    }
  ]
}