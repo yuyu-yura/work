{
  "nbformat": 4,
  "nbformat_minor": 0,
  "metadata": {
    "colab": {
      "name": "loc 변환.ipynb",
      "provenance": []
    },
    "kernelspec": {
      "name": "python3",
      "display_name": "Python 3"
    },
    "language_info": {
      "name": "python"
    }
  },
  "cells": [
    {
      "cell_type": "code",
      "execution_count": 1,
      "metadata": {
        "id": "a-JyLxemxNIL"
      },
      "outputs": [],
      "source": [
        "# 카텍좌표를 wgs84로 바꾸는 함수\n",
        "def katec_to_wgs84(x, y):\n",
        "    inProj  = Proj('+proj=tmerc +lat_0=38 +lon_0=128 +k=0.9999 +x_0=400000 +y_0=600000 +ellps=bessel +units=m +no_defs +towgs84=-115.80,474.99,674.11,1.16,-2.31,-1.63,6.43')\n",
        "    outProj = Proj({ 'proj':'latlong', 'datum':'WGS84', 'ellps':'WGS84' })\n",
        "    return transform( inProj, outProj, x, y )\n",
        "\n",
        "WGS84 = { 'proj':'latlong', 'datum':'WGS84', 'ellps':'WGS84', }\n",
        "KATEC = { 'proj':'tmerc', 'lat_0':'38N', 'lon_0':'128E', 'ellps':'bessel','x_0':'400000', 'y_0':'600000', 'k':'0.9999','towgs84':'-115.80,474.99,674.11,1.16,-2.31,-1.63,6.43'}\n",
        "\n",
        "# wgs84를 카텍좌표로 바꾸는 함수\n",
        "def wgs84_to_katec(longitude, latitude):\n",
        "    return transform( Proj(**WGS84), Proj(**KATEC), longitude, latitude )\n",
        "\n",
        "WGS84 = { 'proj':'latlong', 'datum':'WGS84', 'ellps':'WGS84', }\n",
        "KATEC = { 'proj':'tmerc', 'lat_0':'38N', 'lon_0':'128E', 'ellps':'bessel','x_0':'400000', 'y_0':'600000', 'k':'0.9999','towgs84':'-115.80,474.99,674.11,1.16,-2.31,-1.63,6.43'}"
      ]
    }
  ]
}